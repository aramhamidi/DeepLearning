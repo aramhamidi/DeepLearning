{
 "cells": [
  {
   "cell_type": "markdown",
   "metadata": {
    "deletable": true,
    "editable": true
   },
   "source": [
    "# Classification on MNIST\n",
    "This notebook includes my notes and exploration of different classifiers on MNIST dataset. "
   ]
  },
  {
   "cell_type": "markdown",
   "metadata": {
    "deletable": true,
    "editable": true
   },
   "source": [
    "## Data Prepration\n",
    "first thing to do, we downlaod the mnist dataset from sklearn datasets. We also need to know what kind of data we are dealing with and answer questions like how many samples do we have, what is the shape of each sample , etc."
   ]
  },
  {
   "cell_type": "code",
   "execution_count": 1,
   "metadata": {
    "collapsed": false,
    "deletable": true,
    "editable": true
   },
   "outputs": [
    {
     "name": "stdout",
     "output_type": "stream",
     "text": [
      "/home/aramhamidi/scikit_learn_data\n"
     ]
    }
   ],
   "source": [
    "from sklearn.datasets.base import get_data_home \n",
    "print (get_data_home())"
   ]
  },
  {
   "cell_type": "code",
   "execution_count": 2,
   "metadata": {
    "collapsed": true,
    "deletable": true,
    "editable": true
   },
   "outputs": [],
   "source": [
    "from sklearn.datasets import fetch_mldata\n",
    "mnist = fetch_mldata('MNIST original')"
   ]
  },
  {
   "cell_type": "code",
   "execution_count": 3,
   "metadata": {
    "collapsed": false,
    "deletable": true,
    "editable": true
   },
   "outputs": [
    {
     "data": {
      "text/plain": [
       "{'COL_NAMES': ['label', 'data'],\n",
       " 'DESCR': 'mldata.org dataset: mnist-original',\n",
       " 'data': array([[0, 0, 0, ..., 0, 0, 0],\n",
       "        [0, 0, 0, ..., 0, 0, 0],\n",
       "        [0, 0, 0, ..., 0, 0, 0],\n",
       "        ..., \n",
       "        [0, 0, 0, ..., 0, 0, 0],\n",
       "        [0, 0, 0, ..., 0, 0, 0],\n",
       "        [0, 0, 0, ..., 0, 0, 0]], dtype=uint8),\n",
       " 'target': array([ 0.,  0.,  0., ...,  9.,  9.,  9.])}"
      ]
     },
     "execution_count": 3,
     "metadata": {},
     "output_type": "execute_result"
    }
   ],
   "source": [
    "mnist     "
   ]
  },
  {
   "cell_type": "markdown",
   "metadata": {
    "deletable": true,
    "editable": true
   },
   "source": [
    "As we can see in the description, data is containing one row per instance and one column per feature."
   ]
  },
  {
   "cell_type": "code",
   "execution_count": 4,
   "metadata": {
    "collapsed": false,
    "deletable": true,
    "editable": true
   },
   "outputs": [
    {
     "name": "stdout",
     "output_type": "stream",
     "text": [
      "(70000, 784)\n",
      "(70000,)\n"
     ]
    }
   ],
   "source": [
    "x,y = mnist['data'],mnist['target']\n",
    "print(x.shape)\n",
    "print(y.shape)"
   ]
  },
  {
   "cell_type": "markdown",
   "metadata": {
    "deletable": true,
    "editable": true
   },
   "source": [
    "number of images are 70000 and we have 784 features per sample. 784 is coming from the fact that images are 28 by 28 pixels and each pixel counts as a feature. Now let's look at some of those sample images."
   ]
  },
  {
   "cell_type": "code",
   "execution_count": 5,
   "metadata": {
    "collapsed": true,
    "deletable": true,
    "editable": true
   },
   "outputs": [],
   "source": [
    "import matplotlib\n",
    "import matplotlib.pyplot as plt\n",
    "%matplotlib inline"
   ]
  },
  {
   "cell_type": "code",
   "execution_count": 6,
   "metadata": {
    "collapsed": false,
    "deletable": true,
    "editable": true
   },
   "outputs": [
    {
     "name": "stdout",
     "output_type": "stream",
     "text": [
      "label of this image is  3.0\n"
     ]
    },
    {
     "data": {
      "image/png": "[encoded data removed]",
      "text/plain": [
       "<matplotlib.figure.Figure at 0x7f26e9221710>"
      ]
     },
     "metadata": {},
     "output_type": "display_data"
    }
   ],
   "source": [
    "picked_sample = x[22000]\n",
    "picked_sample_image = picked_sample.reshape(28,28)\n",
    "print('label of this image is ',y[22000])\n",
    "plt.imshow(picked_sample_image, cmap=matplotlib.cm.binary, interpolation='nearest')\n",
    "plt.show()"
   ]
  },
  {
   "cell_type": "markdown",
   "metadata": {
    "deletable": true,
    "editable": true
   },
   "source": [
    "### Train, Test and Validation sets\n",
    "mnist dataset is already splited in to training set, which is the first 60000 images, and also test set whih is the last 10000 images. However we need to shuffle the training set to garantee that our training dataset is random enough."
   ]
  },
  {
   "cell_type": "code",
   "execution_count": 7,
   "metadata": {
    "collapsed": true,
    "deletable": true,
    "editable": true
   },
   "outputs": [],
   "source": [
    "x_train, y_train, x_test, y_test = x[:60000], y[:60000], x[60000:], y[60000:]"
   ]
  },
  {
   "cell_type": "code",
   "execution_count": 8,
   "metadata": {
    "collapsed": true,
    "deletable": true,
    "editable": true
   },
   "outputs": [],
   "source": [
    "import numpy as np\n",
    "shuffle_index = np.random.permutation(60000)\n",
    "x_train, y_train = x_train[shuffle_index], y_train[shuffle_index]"
   ]
  },
  {
   "cell_type": "markdown",
   "metadata": {
    "deletable": true,
    "editable": true
   },
   "source": [
    "# Training a Binary Classifier\n",
    "Binary classifiers like SVM or Linear classifiers can only distinguish between two classes. Some of the algorithms like naive Bayes classifiers or Random Forest classifiers can handle multiple classes directly. \n",
    "This is the first classifier, we are going to explor. Binary classifier in this case can detec one digit among the others. It acts like a Buzzer, whenever it finds a *'3'* for example, it Buzzez that it found one. Of course if it trains well. Otherwise it won't be able to find any.\n",
    "## Stochastic Gradient Descent Classifier"
   ]
  },
  {
   "cell_type": "code",
   "execution_count": 9,
   "metadata": {
    "collapsed": true,
    "deletable": true,
    "editable": true
   },
   "outputs": [],
   "source": [
    "# In our binary classifier we only care about two kind of labels: 1 (for digits == 3 and 0 (for digits != 3)\n",
    "y_train_3 = (y_train == 3)\n",
    "y_test_3 = (y_test == 3) "
   ]
  },
  {
   "cell_type": "markdown",
   "metadata": {
    "deletable": true,
    "editable": true
   },
   "source": [
    "Since our dataset is fairly large, let's use SGD classierfier. SGD classifiers are also very efficient for online training."
   ]
  },
  {
   "cell_type": "code",
   "execution_count": 10,
   "metadata": {
    "collapsed": false,
    "deletable": true,
    "editable": true
   },
   "outputs": [
    {
     "data": {
      "text/plain": [
       "SGDClassifier(alpha=0.0001, average=False, class_weight=None, epsilon=0.1,\n",
       "       eta0=0.0, fit_intercept=True, l1_ratio=0.15,\n",
       "       learning_rate='optimal', loss='hinge', n_iter=5, n_jobs=1,\n",
       "       penalty='l2', power_t=0.5, random_state=42, shuffle=True, verbose=0,\n",
       "       warm_start=False)"
      ]
     },
     "execution_count": 10,
     "metadata": {},
     "output_type": "execute_result"
    }
   ],
   "source": [
    "from sklearn.linear_model import SGDClassifier\n",
    "# since we want some reproducable results, we set the random_state parameter\n",
    "sgd_clf = SGDClassifier(random_state=42)\n",
    "sgd_clf.fit(x_train, y_train_3)"
   ]
  },
  {
   "cell_type": "code",
   "execution_count": 11,
   "metadata": {
    "collapsed": false,
    "deletable": true,
    "editable": true
   },
   "outputs": [
    {
     "data": {
      "text/plain": [
       "array([ True], dtype=bool)"
      ]
     },
     "execution_count": 11,
     "metadata": {},
     "output_type": "execute_result"
    }
   ],
   "source": [
    "sgd_clf.predict([picked_sample])"
   ]
  },
  {
   "cell_type": "markdown",
   "metadata": {
    "deletable": true,
    "editable": true
   },
   "source": [
    "## Performance evaluation\n",
    "That sweet \"True\" up here means that our classifier thinks out picked_sample is a 3, which is correct! But we can't get too excited too early. Let's see how is the actuall performance of our classifier. We have so many different performance measures to work with such as:\n",
    "  1. Measuring accuracy with Cross-Validation\n",
    "  2. Confusion Matrix\n",
    "  3. The ROC Curve"
   ]
  },
  {
   "cell_type": "markdown",
   "metadata": {
    "deletable": true,
    "editable": true
   },
   "source": [
    "### 1.Measuring Accuracy with Cross-Validation\n",
    "There are many different ways to do cross-validation. Here we will a K-fold cross-validation, meaning to split the training set into K folds, then chose one fold to evaluate the trained model on other folds."
   ]
  },
  {
   "cell_type": "code",
   "execution_count": 12,
   "metadata": {
    "collapsed": false,
    "deletable": true,
    "editable": true
   },
   "outputs": [
    {
     "name": "stdout",
     "output_type": "stream",
     "text": [
      "[ 0.95945203  0.9344      0.9659483 ]\n"
     ]
    }
   ],
   "source": [
    "from sklearn.model_selection import cross_val_score\n",
    "# we pick 3 folds\n",
    "folds_validation = cross_val_score(sgd_clf, x_train, y_train_3, cv=3, scoring='accuracy')\n",
    "print(folds_validation)"
   ]
  },
  {
   "cell_type": "markdown",
   "metadata": {
    "deletable": true,
    "editable": true
   },
   "source": [
    "Shall we now get excited? Let's see how a simple classifier does on the images that are not 3."
   ]
  },
  {
   "cell_type": "code",
   "execution_count": 13,
   "metadata": {
    "collapsed": false,
    "deletable": true,
    "editable": true
   },
   "outputs": [
    {
     "data": {
      "text/plain": [
       "array([ 0.09825,  0.097  ,  0.1009 ])"
      ]
     },
     "execution_count": 13,
     "metadata": {},
     "output_type": "execute_result"
    }
   ],
   "source": [
    "from sklearn.base import BaseEstimator\n",
    "class notA3Classifier(BaseEstimator):\n",
    "    def fit(self, x, y=None):\n",
    "        pass\n",
    "    def predict(self, x):\n",
    "        return np.zeros((len(x),1 ), dtype=bool)\n",
    "\n",
    "not3_clf = notA3Classifier()\n",
    "cross_val_score(not3_clf, x_train, y_train, cv=3, scoring='accuracy')"
   ]
  },
  {
   "cell_type": "markdown",
   "metadata": {
    "deletable": true,
    "editable": true
   },
   "source": [
    "Then the answer is no, dont get too exited. It also makes sence sice only 10% of the data is '3'. So even if this classifier always predicts that the data is not a '3' it is correct 90% of the times!"
   ]
  },
  {
   "cell_type": "markdown",
   "metadata": {
    "deletable": true,
    "editable": true
   },
   "source": [
    "#### Conclusion\n",
    "Accuracy is not always the best metric to measure the performance. Specially when we are dealing with skewed datasets."
   ]
  },
  {
   "cell_type": "markdown",
   "metadata": {
    "deletable": true,
    "editable": true
   },
   "source": [
    "### 2.Confusion Matix\n",
    "The idea is to see how many times a sample of class A has been classified as class B (meaning classifier got confused!). In this case you can look at the row A and column B of the confusion matrix.\n",
    "We need predictions, but not on test set, cause we want to keep it untouched for now."
   ]
  },
  {
   "cell_type": "code",
   "execution_count": 14,
   "metadata": {
    "collapsed": false,
    "deletable": true,
    "editable": true
   },
   "outputs": [],
   "source": [
    "from sklearn.model_selection import cross_val_predict\n",
    "#cross_val_predict performs similar to cross_val_score but returns predictions instead of evaluation scores.\n",
    "y_train_pred = cross_val_predict(sgd_clf, x_train, y_train_3, cv=3)"
   ]
  },
  {
   "cell_type": "markdown",
   "metadata": {
    "deletable": true,
    "editable": true
   },
   "source": [
    "Notice that sgd_clf is not trained on the same dataset.(y_train_3 not y_train). So the predictions here are clean."
   ]
  },
  {
   "cell_type": "code",
   "execution_count": 15,
   "metadata": {
    "collapsed": false,
    "deletable": true,
    "editable": true
   },
   "outputs": [
    {
     "data": {
      "text/plain": [
       "array([[52126,  1743],\n",
       "       [ 1061,  5070]])"
      ]
     },
     "execution_count": 15,
     "metadata": {},
     "output_type": "execute_result"
    }
   ],
   "source": [
    "from sklearn.metrics import confusion_matrix\n",
    "CM = confusion_matrix(y_train_3, y_train_pred)\n",
    "CM"
   ]
  },
  {
   "cell_type": "markdown",
   "metadata": {
    "deletable": true,
    "editable": true
   },
   "source": [
    "First row is for *negative class* or *not-3* digits and the second or is for *positive class*.\n",
    "So as you can see, the classifier has been wrongly classifying non 3 digits as 3, 898 times and also 3 digits as not-3, 1216 times. So we can say:\n",
    "\n",
    "  FN(True Positive) = 1216\n",
    "  \n",
    "  TN(True Negative) = 52971\n",
    "\n",
    "  FP(False Positive) = 898\n",
    "\n",
    "  TP(False Negative) = 4915"
   ]
  },
  {
   "cell_type": "code",
   "execution_count": 16,
   "metadata": {
    "collapsed": false,
    "deletable": true,
    "editable": true
   },
   "outputs": [
    {
     "name": "stdout",
     "output_type": "stream",
     "text": [
      "pricision of classifier: 0.74416556583\n"
     ]
    }
   ],
   "source": [
    "classifier_precision = CM[1][1] / (CM[1][1]  + CM[0][1])  \n",
    "print('pricision of classifier:', classifier_precision)"
   ]
  },
  {
   "cell_type": "code",
   "execution_count": 17,
   "metadata": {
    "collapsed": false,
    "deletable": true,
    "editable": true
   },
   "outputs": [
    {
     "name": "stdout",
     "output_type": "stream",
     "text": [
      "sensitivity, or recall of classifier: 0.826945033437\n"
     ]
    }
   ],
   "source": [
    "classifier_recall = CM[1][1] / (CM[1][1]  + CM[1][0])  \n",
    "print('sensitivity, or recall of classifier:', classifier_recall)"
   ]
  },
  {
   "cell_type": "code",
   "execution_count": 18,
   "metadata": {
    "collapsed": false,
    "deletable": true,
    "editable": true
   },
   "outputs": [
    {
     "name": "stdout",
     "output_type": "stream",
     "text": [
      "precision with skearn: 0.74416556583\n",
      "recall with sklearn 0.826945033437\n",
      "F1-score of classifier 0.783374536465\n"
     ]
    }
   ],
   "source": [
    "# We can se sklearn to calculate these metrics as well\n",
    "from sklearn.metrics import recall_score, precision_score, f1_score\n",
    "print('precision with skearn:',precision_score(y_train_3, y_train_pred))\n",
    "print('recall with sklearn', recall_score(y_train_3, y_train_pred))\n",
    "print('F1-score of classifier', f1_score(y_train_3, y_train_pred))"
   ]
  },
  {
   "cell_type": "markdown",
   "metadata": {
    "deletable": true,
    "editable": true
   },
   "source": [
    "So our classifier precision in detecting 3-digit is only 84% and it can detect digit-3 only 80% of the times. Not very impressive to get excited about. And F1 score is high only when both presicion and sensitivity are high."
   ]
  },
  {
   "cell_type": "markdown",
   "metadata": {
    "collapsed": true,
    "deletable": true,
    "editable": true
   },
   "source": [
    "Please note that F1-score is in the favor of classifier that has similar recall and precision and that is not all the time a desirable case. We can not have it both ways either, as sensitivity and precision have reverse relationship."
   ]
  },
  {
   "cell_type": "code",
   "execution_count": 19,
   "metadata": {
    "collapsed": false,
    "deletable": true,
    "editable": true
   },
   "outputs": [],
   "source": [
    "from sklearn.metrics import precision_recall_curve\n",
    "# Instead of getting predictions, you can get the scores by setting 'method' parameter.\n",
    "# then you can use these scores and compute precision and recall for all the possible thresholds\n",
    "y_scores = cross_val_predict(sgd_clf, x_train, y_train_3, cv=3, method='decision_function')\n",
    "precisions, recalls, thresholds = precision_recall_curve(y_train_3, y_scores)\n"
   ]
  },
  {
   "cell_type": "code",
   "execution_count": 20,
   "metadata": {
    "collapsed": false,
    "deletable": true,
    "editable": true
   },
   "outputs": [
    {
     "data": {
      "image/png": "[encoded data removed]",
      "text/plain": [
       "<matplotlib.figure.Figure at 0x7f26e1d4fb38>"
      ]
     },
     "metadata": {},
     "output_type": "display_data"
    }
   ],
   "source": [
    "def plot_precision_recall_curve(precisoins, recalls, thresholds):\n",
    "    plt.plot(thresholds, precisions[:-1], \"--b\", label='precisions')\n",
    "    plt.plot(thresholds, recalls[:-1], \"g-\", label=\"recalls\")\n",
    "    plt.xlabel('Threshold')\n",
    "    plt.legend(loc='center left')\n",
    "    plt.ylim([0,1.05])\n",
    "plot_precision_recall_curve(precisions, recalls, thresholds)\n",
    "plt.show()"
   ]
  },
  {
   "cell_type": "markdown",
   "metadata": {
    "deletable": true,
    "editable": true
   },
   "source": [
    "Note that precision is a bit bumpier around 1.0 but recall smoothly decreases."
   ]
  },
  {
   "cell_type": "code",
   "execution_count": 21,
   "metadata": {
    "collapsed": false,
    "deletable": true,
    "editable": true
   },
   "outputs": [
    {
     "data": {
      "image/png": "[encoded data removed]",
      "text/plain": [
       "<matplotlib.figure.Figure at 0x7f26e1d4f358>"
      ]
     },
     "metadata": {},
     "output_type": "display_data"
    }
   ],
   "source": [
    "plt.plot(precisions, recalls)\n",
    "plt.xlabel('Recall')\n",
    "plt.ylabel('Precision')\n",
    "plt.show()"
   ]
  },
  {
   "cell_type": "markdown",
   "metadata": {
    "deletable": true,
    "editable": true
   },
   "source": [
    "It seems around 80% recall, precision drops really dramaticly! So in this case probably around 60% recall seems to be a good tradeoff between recall and precision."
   ]
  },
  {
   "cell_type": "code",
   "execution_count": 22,
   "metadata": {
    "collapsed": true,
    "deletable": true,
    "editable": true
   },
   "outputs": [],
   "source": [
    "# Now we can change the threshold to the one that we\n",
    "# chose base on the tradeoff we made.\n",
    "y_train_pred_90 = (y_scores > 70000)"
   ]
  },
  {
   "cell_type": "code",
   "execution_count": 23,
   "metadata": {
    "collapsed": false,
    "deletable": true,
    "editable": true
   },
   "outputs": [
    {
     "name": "stdout",
     "output_type": "stream",
     "text": [
      "0.843710060252 0.753710650791\n"
     ]
    }
   ],
   "source": [
    "# now let's review the new precision and recall\n",
    "new_precision = precision_score(y_train_3, y_train_pred_90)\n",
    "new_recall = recall_score(y_train_3, y_train_pred_90)\n",
    "print(new_precision, new_recall)"
   ]
  },
  {
   "cell_type": "markdown",
   "metadata": {
    "deletable": true,
    "editable": true
   },
   "source": [
    "Conclusion: The right question to ask about high precision classifiers is, \"At what recall\"!"
   ]
  },
  {
   "cell_type": "markdown",
   "metadata": {
    "deletable": true,
    "editable": true
   },
   "source": [
    "### 3. The ROC Curve and ROC AUC\n",
    "ROC curves are another tool that are being used on binary classifiers. ROC curve plots *true positive rate* (or recall) vursuse *false positive rate* which is 1 - *true negative rate* (specifity). So ROC plots TPR vs 1-TNR or sensitivity vs 1-specificity."
   ]
  },
  {
   "cell_type": "code",
   "execution_count": 24,
   "metadata": {
    "collapsed": false,
    "deletable": true,
    "editable": true
   },
   "outputs": [
    {
     "data": {
      "image/png": "[encoded data removed]",
      "text/plain": [
       "<matplotlib.figure.Figure at 0x7f26eeaf4c18>"
      ]
     },
     "metadata": {},
     "output_type": "display_data"
    }
   ],
   "source": [
    "from sklearn.metrics import roc_curve\n",
    "fpr, tpr , thresholds = roc_curve(y_train_3, y_scores)\n",
    "def plot_roc_curve(fpr, tpr, label=None):\n",
    "    plt.plot(fpr, tpr, linewidth=2 , label=label)\n",
    "    plt.plot([0,1],[0,1],'k--', label='purely random classifier')\n",
    "    plt.xlabel('False Positive Rate')\n",
    "    plt.ylabel('True Positive Rate')\n",
    "plot_roc_curve(fpr, tpr)\n",
    "plt.show()"
   ]
  },
  {
   "cell_type": "markdown",
   "metadata": {
    "deletable": true,
    "editable": true
   },
   "source": [
    "  * A good classifier stays as far as possible from the dotted line.\n",
    "  * A perfect classifier has ROC AUC = 1.0 and a purely random classifier has ROC AUC = 0.5"
   ]
  },
  {
   "cell_type": "code",
   "execution_count": 25,
   "metadata": {
    "collapsed": false,
    "deletable": true,
    "editable": true
   },
   "outputs": [
    {
     "data": {
      "text/plain": [
       "0.96098719451280412"
      ]
     },
     "execution_count": 25,
     "metadata": {},
     "output_type": "execute_result"
    }
   ],
   "source": [
    "from sklearn.metrics import roc_auc_score\n",
    "roc_auc_score(y_train_3, y_scores)"
   ]
  },
  {
   "cell_type": "markdown",
   "metadata": {
    "deletable": true,
    "editable": true
   },
   "source": [
    "Rule of Thumb: Whenever the positive class is rare or we care more about False positivs than False negatives, we use PR curve, otherwise ROC Curve."
   ]
  },
  {
   "cell_type": "markdown",
   "metadata": {
    "deletable": true,
    "editable": true
   },
   "source": [
    "## Random Forest Classifier\n",
    "Random Forest Classifier has a predict_prob() function isnstead of a decision_function() and it returns onw row per instance and one column per class which represents the probability of that instance belonging to that specific class."
   ]
  },
  {
   "cell_type": "code",
   "execution_count": 26,
   "metadata": {
    "collapsed": false,
    "deletable": true,
    "editable": true
   },
   "outputs": [],
   "source": [
    "from sklearn.ensemble import RandomForestClassifier\n",
    "forest_clf = RandomForestClassifier(random_state=42)\n",
    "y_probes_forest = cross_val_predict(forest_clf, x_train, y_train_3, cv=3, method=\"predict_proba\")"
   ]
  },
  {
   "cell_type": "code",
   "execution_count": 27,
   "metadata": {
    "collapsed": false,
    "deletable": true,
    "editable": true
   },
   "outputs": [],
   "source": [
    "y_scores_forest = y_probes_forest[:,1] # score = proba of the positive class\n",
    "fpr_forest, tpr_forest , thresholds_forest = roc_curve(y_train_3, y_scores_forest)\n"
   ]
  },
  {
   "cell_type": "code",
   "execution_count": 28,
   "metadata": {
    "collapsed": false,
    "deletable": true,
    "editable": true
   },
   "outputs": [
    {
     "data": {
      "image/png": "[encoded data removed]",
      "text/plain": [
       "<matplotlib.figure.Figure at 0x7f26e12654a8>"
      ]
     },
     "metadata": {},
     "output_type": "display_data"
    }
   ],
   "source": [
    "plt.clf()\n",
    "plt.plot(fpr, tpr, 'b:', label='SGD')\n",
    "plt.plot(fpr_forest, tpr_forest, label='Random Forest')\n",
    "plt.legend(loc='lower right')\n",
    "plt.show()"
   ]
  },
  {
   "cell_type": "markdown",
   "metadata": {
    "deletable": true,
    "editable": true
   },
   "source": [
    "ROC cureve for Random Forest is better than SGD classifier.So the ROC AUC should be higher too:"
   ]
  },
  {
   "cell_type": "code",
   "execution_count": 29,
   "metadata": {
    "collapsed": false,
    "deletable": true,
    "editable": true
   },
   "outputs": [
    {
     "data": {
      "text/plain": [
       "0.98795571231161583"
      ]
     },
     "execution_count": 29,
     "metadata": {},
     "output_type": "execute_result"
    }
   ],
   "source": [
    "roc_auc_score(y_train_3, y_scores_forest)"
   ]
  },
  {
   "cell_type": "code",
   "execution_count": 30,
   "metadata": {
    "collapsed": false,
    "deletable": true,
    "editable": true
   },
   "outputs": [
    {
     "name": "stdout",
     "output_type": "stream",
     "text": [
      "(60000,)\n"
     ]
    }
   ],
   "source": [
    "print(y_scores_forest.shape)"
   ]
  },
  {
   "cell_type": "code",
   "execution_count": 31,
   "metadata": {
    "collapsed": false,
    "deletable": true,
    "editable": true
   },
   "outputs": [],
   "source": [
    "from sklearn import model_selection\n",
    "from sklearn.metrics import make_scorer, accuracy_score\n",
    "\n",
    "accuracy_forest =  make_scorer(accuracy_score),\n",
    "precision_forest = make_scorer(precision_score),\n",
    "recall_forest = make_scorer(recall_score),\n",
    "f1_score_forest = make_scorer(f1_score)\n",
    "\n",
    "\n",
    "kfold = model_selection.KFold(n_splits=3, random_state=42)\n",
    "model=RandomForestClassifier() \n",
    "\n",
    "results = model_selection.cross_val_score(estimator=model,\n",
    "                                          X=x_train,\n",
    "                                          y=y_train_3,\n",
    "                                          cv=kfold,\n",
    "                                          scoring=make_scorer(precision_score))"
   ]
  },
  {
   "cell_type": "code",
   "execution_count": 32,
   "metadata": {
    "collapsed": false,
    "deletable": true,
    "editable": true
   },
   "outputs": [
    {
     "name": "stdout",
     "output_type": "stream",
     "text": [
      "[ 0.98388097  0.98440312  0.98830049]\n"
     ]
    }
   ],
   "source": [
    "print(results)"
   ]
  },
  {
   "cell_type": "markdown",
   "metadata": {
    "deletable": true,
    "editable": true
   },
   "source": [
    "# Training Multiclass Classifiers\n",
    "Let's now try to classfy all the digits! We could use 10 binary classifiers, one for each digit, and pick the highest score among all for images as the final result. this method is called *one vs all*.\n",
    "on smaller data sets, OVA is preferred to a classifier like SGD, since SGD takes a long time to classify! "
   ]
  },
  {
   "cell_type": "code",
   "execution_count": 33,
   "metadata": {
    "collapsed": false,
    "deletable": true,
    "editable": true
   },
   "outputs": [
    {
     "data": {
      "text/plain": [
       "array([ 3.])"
      ]
     },
     "execution_count": 33,
     "metadata": {},
     "output_type": "execute_result"
    }
   ],
   "source": [
    "sgd_clf.fit(x_train, y_train)\n",
    "sgd_clf.predict([picked_sample])"
   ]
  },
  {
   "cell_type": "code",
   "execution_count": 34,
   "metadata": {
    "collapsed": false,
    "deletable": true,
    "editable": true
   },
   "outputs": [
    {
     "data": {
      "text/plain": [
       "array([[-574922.4467018 , -178292.02411836, -404366.56415274,\n",
       "         252848.4549389 , -269302.41763921, -333414.90808479,\n",
       "        -318624.2440167 , -305795.15995245, -581220.74115462,\n",
       "        -820632.83081167]])"
      ]
     },
     "execution_count": 34,
     "metadata": {},
     "output_type": "execute_result"
    }
   ],
   "source": [
    "# sklearn here is actually running 10 binay classifers and returns the highest score\n",
    "picked_sample_score = sgd_clf.decision_function([picked_sample])\n",
    "picked_sample_score"
   ]
  },
  {
   "cell_type": "code",
   "execution_count": 35,
   "metadata": {
    "collapsed": false,
    "deletable": true,
    "editable": true
   },
   "outputs": [
    {
     "data": {
      "text/plain": [
       "array([ 3.])"
      ]
     },
     "execution_count": 35,
     "metadata": {},
     "output_type": "execute_result"
    }
   ],
   "source": [
    "# it is as easy for random forest classifier , but it automatically classify instances into multiple classes\n",
    "forest_clf.fit(x_train, y_train)\n",
    "forest_clf.predict([picked_sample])"
   ]
  },
  {
   "cell_type": "code",
   "execution_count": 36,
   "metadata": {
    "collapsed": false,
    "deletable": true,
    "editable": true
   },
   "outputs": [
    {
     "data": {
      "text/plain": [
       "array([[ 0.,  0.,  0.,  1.,  0.,  0.,  0.,  0.,  0.,  0.]])"
      ]
     },
     "execution_count": 36,
     "metadata": {},
     "output_type": "execute_result"
    }
   ],
   "source": [
    "forest_clf.predict_proba([picked_sample])"
   ]
  },
  {
   "cell_type": "code",
   "execution_count": 37,
   "metadata": {
    "collapsed": true,
    "deletable": true,
    "editable": true
   },
   "outputs": [],
   "source": [
    "y_train_pred = cross_val_predict(sgd_clf, x_train, y_train, cv=3)\n",
    "sgd_conf_mx = confusion_matrix(y_train, y_train_pred)"
   ]
  },
  {
   "cell_type": "code",
   "execution_count": 38,
   "metadata": {
    "collapsed": false,
    "deletable": true,
    "editable": true
   },
   "outputs": [
    {
     "data": {
      "text/plain": [
       "array([[5638,    3,   35,   15,    6,  120,   51,    8,   34,   13],\n",
       "       [   1, 6485,   34,   24,    3,   35,    8,    6,  129,   17],\n",
       "       [  47,   93, 5203,  211,   37,   57,   59,   55,  151,   45],\n",
       "       [  42,   38,  164, 5283,    8,  393,   23,   31,   83,   66],\n",
       "       [  26,   44,   98,   26, 4857,  194,   38,   35,  109,  415],\n",
       "       [  80,   53,   55,  238,   70, 4525,  113,   13,  193,   81],\n",
       "       [  71,   37,   94,   18,   37,  147, 5439,   10,   54,   11],\n",
       "       [  49,   48,   93,   82,   53,   61,    5, 5450,   28,  396],\n",
       "       [  52,  331,  148,  315,   68,  706,   38,   18, 4035,  140],\n",
       "       [  38,   51,   42,  106,  192,  341,    4,  224,   71, 4880]])"
      ]
     },
     "execution_count": 38,
     "metadata": {},
     "output_type": "execute_result"
    }
   ],
   "source": [
    "sgd_conf_mx"
   ]
  },
  {
   "cell_type": "markdown",
   "metadata": {
    "deletable": true,
    "editable": true
   },
   "source": [
    "That's too many numbers, a better way is to visualize the color coded version."
   ]
  },
  {
   "cell_type": "code",
   "execution_count": 39,
   "metadata": {
    "collapsed": false,
    "deletable": true,
    "editable": true
   },
   "outputs": [
    {
     "data": {
      "image/png": "[encoded data removed]",
      "text/plain": [
       "<matplotlib.figure.Figure at 0x7f26e0d3d550>"
      ]
     },
     "metadata": {},
     "output_type": "display_data"
    }
   ],
   "source": [
    "plt.matshow(sgd_conf_mx, cmap=plt.cm.gray)\n",
    "plt.show()"
   ]
  },
  {
   "cell_type": "markdown",
   "metadata": {
    "deletable": true,
    "editable": true
   },
   "source": [
    "This Matrix looks good cause most of the images are on the diagonal cells. However in order to get a better understanding of rates, we can devide each value of the cells by the number of images in each class(sum of the rows in one column), so we can see how is the error rate when considering the number of samples."
   ]
  },
  {
   "cell_type": "code",
   "execution_count": 40,
   "metadata": {
    "collapsed": true,
    "deletable": true,
    "editable": true
   },
   "outputs": [],
   "source": [
    "sum_row = sgd_conf_mx.sum(axis=1, keepdims=True)\n",
    "norm_conf_mx = sgd_conf_mx / sum_row"
   ]
  },
  {
   "cell_type": "code",
   "execution_count": 41,
   "metadata": {
    "collapsed": false,
    "deletable": true,
    "editable": true
   },
   "outputs": [
    {
     "data": {
      "image/png": "[encoded data removed]",
      "text/plain": [
       "<matplotlib.figure.Figure at 0x7f26e0d25588>"
      ]
     },
     "metadata": {},
     "output_type": "display_data"
    }
   ],
   "source": [
    "np.fill_diagonal(norm_conf_mx, 0)\n",
    "plt.matshow(norm_conf_mx, cmap=plt.cm.gray)\n",
    "plt.show()"
   ]
  },
  {
   "cell_type": "markdown",
   "metadata": {
    "collapsed": true,
    "deletable": true,
    "editable": true
   },
   "source": [
    "As you can see, classifier has misclassified digits more on 5, 8 and 9. "
   ]
  },
  {
   "cell_type": "markdown",
   "metadata": {},
   "source": [
    "# Multilabel Classifiers\n",
    "Sometimes we would like the classifier to ourput multiple classes. For example in a face-recognizer, we want it to be able to classify all the faces in one image. "
   ]
  },
  {
   "cell_type": "code",
   "execution_count": 42,
   "metadata": {
    "collapsed": false
   },
   "outputs": [
    {
     "data": {
      "text/plain": [
       "array([[False,  True]], dtype=bool)"
      ]
     },
     "execution_count": 42,
     "metadata": {},
     "output_type": "execute_result"
    }
   ],
   "source": [
    "from sklearn.neighbors import KNeighborsClassifier\n",
    "\n",
    "y_train_large = (y_train > 7)\n",
    "y_train_odd = (y_train % 2 == 1)\n",
    "y_multilabel = np.c_[y_train_large, y_train_odd]\n",
    "\n",
    "knn_clf = KNeighborsClassifier()\n",
    "knn_clf.fit(x_train, y_multilabel)\n",
    "knn_clf.predict([picked_sample])"
   ]
  },
  {
   "cell_type": "code",
   "execution_count": 43,
   "metadata": {
    "collapsed": true
   },
   "outputs": [],
   "source": [
    "# y_train_knn_pred = cross_val_predict(knn_clf, x_train, y_multilabel, cv=3)\n",
    "# 'macro' assumes all the labels are equally important. \n",
    "# if you want to give each class a weight equal to it's\n",
    "# support (meaning number of instances in that class, set average parameter to wieighted) \n",
    "# f1_score(y_multilabel, y_train_knn_pred, average=\"macro\")"
   ]
  },
  {
   "cell_type": "markdown",
   "metadata": {},
   "source": [
    "# Multiout Classifier\n",
    "Sometimes we not only want to output multilabels, but also each of those can have multipe outputs. For example if we have a noisy image of a digit, we want it not only be able to classify that digit but also outputs the pixel intensities in that image and finally denoise and output a clear image."
   ]
  },
  {
   "cell_type": "code",
   "execution_count": 47,
   "metadata": {
    "collapsed": false
   },
   "outputs": [],
   "source": [
    "noise = np.random.randint(0, 100, (len(x_train), 784))\n",
    "x_train_mod = x_train + noise\n",
    "noise = np.random.randint(0, 100,(len(x_test), 784))\n",
    "x_test_mod = x_test + noise\n",
    "y_train_mod = x_train\n",
    "y_test_mod = x_test"
   ]
  },
  {
   "cell_type": "code",
   "execution_count": 70,
   "metadata": {
    "collapsed": false
   },
   "outputs": [
    {
     "name": "stdout",
     "output_type": "stream",
     "text": [
      "(1, 784)\n"
     ]
    },
    {
     "name": "stderr",
     "output_type": "stream",
     "text": [
      "/home/aramhamidi/anaconda3/envs/udacity2/lib/python3.6/site-packages/sklearn/utils/validation.py:395: DeprecationWarning: Passing 1d arrays as data is deprecated in 0.17 and will raise ValueError in 0.19. Reshape your data either using X.reshape(-1, 1) if your data has a single feature or X.reshape(1, -1) if it contains a single sample.\n",
      "  DeprecationWarning)\n"
     ]
    },
    {
     "data": {
      "image/png": "[encoded data removed]",
      "text/plain": [
       "<matplotlib.figure.Figure at 0x7f26c98ec780>"
      ]
     },
     "metadata": {},
     "output_type": "display_data"
    }
   ],
   "source": [
    "knn_clf.fit(x_train_mod, y_train_mod)\n",
    "clean_digit = knn_clf.predict(x_test_mod[252])\n",
    "print(clean_digit.shape)\n",
    "plt.imshow(clean_digit.reshape(28,28))\n",
    "plt.show()"
   ]
  },
  {
   "cell_type": "code",
   "execution_count": 65,
   "metadata": {
    "collapsed": false
   },
   "outputs": [
    {
     "name": "stdout",
     "output_type": "stream",
     "text": [
      "[[74 96 75 ..., 80 36 45]\n",
      " [74 96 75 ..., 80 36 45]\n",
      " [74 96 75 ..., 80 36 45]\n",
      " ..., \n",
      " [74 96 75 ..., 80 36 45]\n",
      " [74 96 75 ..., 80 36 45]\n",
      " [74 96 75 ..., 80 36 45]]\n",
      "(784,)\n",
      "(10000, 784)\n"
     ]
    }
   ],
   "source": [
    "print(x_test_mod[picked_sample])\n",
    "print(x_test_mod[0].shape)\n",
    "print(x_test_mod.shape)"
   ]
  },
  {
   "cell_type": "code",
   "execution_count": null,
   "metadata": {
    "collapsed": true
   },
   "outputs": [],
   "source": []
  }
 ],
 "metadata": {
  "kernelspec": {
   "display_name": "Python 3",
   "language": "python",
   "name": "python3"
  },
  "language_info": {
   "codemirror_mode": {
    "name": "ipython",
    "version": 3
   },
   "file_extension": ".py",
   "mimetype": "text/x-python",
   "name": "python",
   "nbconvert_exporter": "python",
   "pygments_lexer": "ipython3",
   "version": "3.6.7"
  }
 },
 "nbformat": 4,
 "nbformat_minor": 2
}
